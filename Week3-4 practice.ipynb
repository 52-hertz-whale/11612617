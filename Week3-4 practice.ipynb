{
 "cells": [
  {
   "cell_type": "markdown",
   "metadata": {},
   "source": [
    "# Theory questions"
   ]
  },
  {
   "cell_type": "markdown",
   "metadata": {},
   "source": [
    "## 1.See a movie"
   ]
  },
  {
   "cell_type": "markdown",
   "metadata": {},
   "source": [
    "The start condition: I want to see a movie. I have enough money. I have some time.  \n",
    "Roles: watcher, actor, tacket seller,cleaner  \n",
    "Equipment required: room, seats, ticket, screen, projector  \n",
    "The scences: 1.go to the cinema; 2.buy a ticket; 3.buy some drink 4.get into the screen room; 5.sit down; 6.enjoy the movie; 7.go home\n",
    "Result: I watched a movie; The cinema earned money"
   ]
  },
  {
   "cell_type": "markdown",
   "metadata": {},
   "source": [
    "## 2.Farmer"
   ]
  },
  {
   "cell_type": "markdown",
   "metadata": {},
   "source": [
    "1.Bring the duck to the west side and put it there.  \n",
    "2.Go back to the east side.  \n",
    "3.Bring the wolf to the west side and put it there.  \n",
    "4.Bring the duck back and put it on the east side.  \n",
    "5.Bring the corn to the west side and put it there.  \n",
    "6.Go back to the east side alone.  \n",
    "7.Bring the duck to the west side."
   ]
  },
  {
   "cell_type": "markdown",
   "metadata": {},
   "source": [
    "## 3.Determine the goal"
   ]
  },
  {
   "cell_type": "markdown",
   "metadata": {},
   "source": [
    "In goal formulation, we decide what we are interested in and what to ignore. In problem formulation, we figure out how to get the goal.If we do problem formulation first, we still don't know what we want to do and what is the goal."
   ]
  },
  {
   "cell_type": "markdown",
   "metadata": {},
   "source": [
    "## 4.BFS and DFS"
   ]
  },
  {
   "cell_type": "markdown",
   "metadata": {},
   "source": [
    "1.BFS: A B C D E F H G I K  \n",
    "2.DFS: A B C E F D H I"
   ]
  },
  {
   "cell_type": "markdown",
   "metadata": {},
   "source": [
    "# 5"
   ]
  },
  {
   "cell_type": "markdown",
   "metadata": {},
   "source": [
    "a.tier1: 1  \n",
    "tier2: 2 3  \n",
    "tier3: 4 5 6 7  \n",
    "tier4: 8 9 10 11 12 13 14 15  \n",
    "\n",
    "b.BFS: 1 2 3 4 5 6 7 8 9 10 11  \n",
    "DFS: 1 2 4 8 9 5 10 11  \n",
    "IDS: 1 2 3; 1 2 4 5 3 6 7; 1 2 4 8 9 5 10 11  \n",
    "\n",
    "c.1-->2; 11-->5; For forward, the branching facter is 2. For backward, it is 1.  \n",
    "\n",
    "d.Yes   \n",
    "\n",
    "e.The solution can be got from the binary numeral for the goal number.Skip 1 then begin with node a 1, go left to node 2n if this bit is 0 and go right to node 2n+1 if it is 1."
   ]
  },
  {
   "cell_type": "markdown",
   "metadata": {},
   "source": [
    "# Programming Exercises"
   ]
  },
  {
   "cell_type": "markdown",
   "metadata": {},
   "source": [
    "## 1.Chicken and rabbits"
   ]
  },
  {
   "cell_type": "code",
   "execution_count": 1,
   "metadata": {},
   "outputs": [
    {
     "name": "stdout",
     "output_type": "stream",
     "text": [
      "There are 23 chicken and 12 rabbits\n"
     ]
    }
   ],
   "source": [
    "for i in range(1,36):\n",
    "    if i*2+(35-i)*4==94:\n",
    "        print(\"There are {} chicken and {} rabbits\".format(i,35-i))\n",
    "        break"
   ]
  },
  {
   "cell_type": "markdown",
   "metadata": {},
   "source": [
    "## 2.DFS"
   ]
  },
  {
   "cell_type": "code",
   "execution_count": 1,
   "metadata": {},
   "outputs": [
    {
     "name": "stdout",
     "output_type": "stream",
     "text": [
      "you\n",
      "bob\n",
      "anuj\n",
      "peggy\n",
      "alice\n",
      "claire\n",
      "thom\n",
      "jonny\n",
      "The mango seller is thom\n"
     ]
    }
   ],
   "source": [
    "graph = {\"you\":[\"bob\",\"alice\",\"claire\"],\n",
    "         \"bob\": [\"anuj\",\"peggy\"],\n",
    "         \"anuj\":[],\n",
    "         \"peggy\":[],\n",
    "         \"alice\":[\"peggy\"],\n",
    "         \"claire\":[\"thom\",\"jonny\"],\n",
    "         \"thom\":[],\n",
    "         \"jonny\":[]}\n",
    "\n",
    "\n",
    "def dfs(graph,node):\n",
    "    seller = \"\"\n",
    "    visit=[]\n",
    "    stack=[]\n",
    "    visit.append(node)\n",
    "    stack.append(node)           #根节点标记visit，入栈\n",
    "    print(node)\n",
    "    while stack:\n",
    "        top=stack[-1]         #取栈顶元素\n",
    "        if graph[top]:        #有儿子\n",
    "            n = 0\n",
    "            for i in graph[top]:\n",
    "                if i in visit:    #被visit过了\n",
    "                    if n == len(graph[top])-1:    #所有儿子都被visit过了\n",
    "                        stack.pop()\n",
    "                    else:\n",
    "                        n += 1                    #有儿子还没visit，visit下一个儿子\n",
    "                        continue\n",
    "                else:              #没被visit过\n",
    "                    print(i)\n",
    "                    n += 1\n",
    "                    visit.append(i)\n",
    "                    stack.append(i)\n",
    "                    if i.endswith(\"m\"):\n",
    "                        seller = i\n",
    "                    break\n",
    "        else:                      #没儿子\n",
    "            stack.pop()\n",
    "    return seller\n",
    "\n",
    "\n",
    "\n",
    "seller = dfs(graph,\"you\")\n",
    "print(\"The mango seller is {}\".format(seller))\n",
    "\n"
   ]
  },
  {
   "cell_type": "markdown",
   "metadata": {},
   "source": [
    "## 3.DFS C disk"
   ]
  },
  {
   "cell_type": "code",
   "execution_count": 1,
   "metadata": {},
   "outputs": [
    {
     "name": "stderr",
     "output_type": "stream",
     "text": [
      "IOPub data rate exceeded.\n",
      "The notebook server will temporarily stop sending output\n",
      "to the client in order to avoid crashing it.\n",
      "To change this limit, set the config variable\n",
      "`--NotebookApp.iopub_data_rate_limit`.\n",
      "\n",
      "Current values:\n",
      "NotebookApp.iopub_data_rate_limit=1000000.0 (bytes/sec)\n",
      "NotebookApp.rate_limit_window=3.0 (secs)\n",
      "\n"
     ]
    }
   ],
   "source": [
    "import os\n",
    "\n",
    "def DFSfiles(rootdir):\n",
    "    DLLs=[]\n",
    "    stack=[]\n",
    "    stack.append(rootdir)\n",
    "    while(len(stack)!=0):\n",
    "        path=stack.pop()\n",
    "        try:\n",
    "            for i in os.listdir(path):\n",
    "                dirpath=os.path.join(path,i)\n",
    "                if os.path.isdir(dirpath):\n",
    "                    stack.append(dirpath)\n",
    "                if os.path.isfile(dirpath):\n",
    "                    if(dirpath.endswith(\".dll\")):\n",
    "                        DLLs.append(dirpath)\n",
    "        except:\n",
    "            pass\n",
    "\n",
    "    return DLLs\n",
    "\n",
    "rootdir=\"C:/\"\n",
    "print(DFSfiles(rootdir))"
   ]
  },
  {
   "cell_type": "markdown",
   "metadata": {},
   "source": [
    "## 4.BFS C disk"
   ]
  },
  {
   "cell_type": "code",
   "execution_count": 2,
   "metadata": {
    "scrolled": true
   },
   "outputs": [
    {
     "name": "stderr",
     "output_type": "stream",
     "text": [
      "IOPub data rate exceeded.\n",
      "The notebook server will temporarily stop sending output\n",
      "to the client in order to avoid crashing it.\n",
      "To change this limit, set the config variable\n",
      "`--NotebookApp.iopub_data_rate_limit`.\n",
      "\n",
      "Current values:\n",
      "NotebookApp.iopub_data_rate_limit=1000000.0 (bytes/sec)\n",
      "NotebookApp.rate_limit_window=3.0 (secs)\n",
      "\n"
     ]
    }
   ],
   "source": [
    "import os\n",
    "import collections\n",
    "\n",
    "def BFSfiles(rootdir):\n",
    "    DLLs=[]\n",
    "    queue = collections.deque()\n",
    "    queue.append(rootdir)\n",
    "    while(len(queue)!=0):\n",
    "        path=queue.popleft()\n",
    "        try:\n",
    "            for i in os.listdir(path):\n",
    "                dirpath=os.path.join(path,i)\n",
    "                if os.path.isdir(dirpath):\n",
    "                    queue.append(dirpath)\n",
    "                if os.path.isfile(dirpath):\n",
    "                    if(dirpath.endswith(\".dll\")):\n",
    "                        DLLs.append(dirpath)\n",
    "        except:\n",
    "            pass\n",
    "    return DLLs\n",
    "\n",
    "rootdir=\"C:/\"\n",
    "print(BFSfiles(rootdir))\n"
   ]
  },
  {
   "cell_type": "markdown",
   "metadata": {},
   "source": [
    "## 5.UCS"
   ]
  },
  {
   "cell_type": "code",
   "execution_count": 5,
   "metadata": {},
   "outputs": [
    {
     "name": "stdout",
     "output_type": "stream",
     "text": [
      "[85, 42, 21, 10, 5, 2]\n"
     ]
    }
   ],
   "source": [
    "import heapq\n",
    "goal = 85\n",
    "k = 2\n",
    "coost = {2:0}\n",
    "father = {}\n",
    "flist = []\n",
    "path = []\n",
    "heapq.heappush(flist, (coost[2], 2))\n",
    "while flist:\n",
    "    k = heapq.heappop(flist)[1]\n",
    "    for cost, num in [\n",
    "        (k, 2*k),\n",
    "        (round(k/2), 2*k+1),\n",
    "        (k+2, 2*k+2)]:\n",
    "        newcost = cost + coost[k]\n",
    "        if num not in [i[1] for i in flist]:\n",
    "            coost[num] = newcost\n",
    "            heapq.heappush(flist, (coost[num], num))\n",
    "            father[num] = k\n",
    "        else:\n",
    "            if newcost >= coost[num]:\n",
    "                continue\n",
    "            else:\n",
    "                coost[num] = newcost\n",
    "                father[num] = k\n",
    "    if k == 85 :\n",
    "        break\n",
    "current = goal\n",
    "path = [current]\n",
    "while current in father:\n",
    "    current = father[current]\n",
    "    path.append(current)\n",
    "print(path)"
   ]
  },
  {
   "cell_type": "markdown",
   "metadata": {},
   "source": [
    "## 6.A* search"
   ]
  },
  {
   "cell_type": "code",
   "execution_count": 7,
   "metadata": {},
   "outputs": [
    {
     "name": "stdout",
     "output_type": "stream",
     "text": [
      "[(2, 1), (1, 2), (0, 3), (1, 4), (2, 5)]\n"
     ]
    }
   ],
   "source": [
    "import numpy\n",
    "import heapq\n",
    "import math\n",
    "myarray = numpy.array([[0, 0, 0, 0, 0, 0, 0],\n",
    "                       [0, 0, 0, 1, 0, 0, 0],\n",
    "                       [0, 0, 0, 1, 0, 0, 0],\n",
    "                       [0, 0, 0, 1, 0, 0, 0],\n",
    "                       [0, 0, 0, 0, 0, 0, 0]])\n",
    "\n",
    "def hscore(node,goal):\n",
    "    return math.sqrt((node[0]-goal[0])**2+(node[1]-goal[1])**2)\n",
    "\n",
    "def dist(a,b):\n",
    "    return math.sqrt((a[0]-b[0])**2+(a[1]-b[1])**2)\n",
    "\n",
    "def showpath(father,current):\n",
    "    path = [current]\n",
    "    while current in father:\n",
    "        current=father[current]\n",
    "        path.append(current)\n",
    "    path.reverse()\n",
    "    return path\n",
    "\n",
    "\n",
    "def astar(array,start,goal):\n",
    "    directions = [(0,1),(0,-1),(1,0),(-1,0),(1,1),(1,-1),(-1,1),(-1,-1)]\n",
    "    openlist = []\n",
    "    closeset = set()\n",
    "    father = {}\n",
    "    gscore = {}\n",
    "    fscore = {}\n",
    "    gscore[start] = 0\n",
    "    fscore[start] = hscore(start, goal)\n",
    "    heapq.heappush(openlist, (fscore[start], start))\n",
    "\n",
    "    while openlist:\n",
    "        current = heapq.heappop(openlist)[1]\n",
    "        if current == goal:\n",
    "            return showpath(father,current)\n",
    "        closeset.add(current)\n",
    "\n",
    "        for i,j in directions:\n",
    "            neighbor = (current[0]+i,current[1]+j)\n",
    "            if (neighbor[0] < 0)|(neighbor[0] > 4):\n",
    "                continue\n",
    "            if (neighbor[1] < 0)|(neighbor[1] > 6):\n",
    "                continue\n",
    "            if array[neighbor[0], neighbor[1]] == 1:\n",
    "                continue\n",
    "            if neighbor in closeset:\n",
    "                continue\n",
    "            new_gscore = gscore[current] + dist(current,neighbor)\n",
    "            if neighbor not in [i[1] for i in openlist]:\n",
    "                gscore[neighbor] = new_gscore\n",
    "                fscore[neighbor] = new_gscore+hscore(neighbor, goal)\n",
    "                heapq.heappush(openlist, (fscore[neighbor],neighbor))\n",
    "                father[neighbor]=current\n",
    "            else:\n",
    "                if new_gscore >= gscore[neighbor]:\n",
    "                    continue\n",
    "                else:\n",
    "                    gscore[neighbor] = new_gscore\n",
    "                    fscore[neighbor] = new_gscore + hscore(neighbor,goal)\n",
    "                    father[neighbor] = current\n",
    "    return False\n",
    "\n",
    "\n",
    "path=astar(myarray,(2,1),(2,5))\n",
    "print(path)\n"
   ]
  },
  {
   "cell_type": "code",
   "execution_count": null,
   "metadata": {},
   "outputs": [],
   "source": []
  }
 ],
 "metadata": {
  "kernelspec": {
   "display_name": "Python 3",
   "language": "python",
   "name": "python3"
  },
  "language_info": {
   "codemirror_mode": {
    "name": "ipython",
    "version": 3
   },
   "file_extension": ".py",
   "mimetype": "text/x-python",
   "name": "python",
   "nbconvert_exporter": "python",
   "pygments_lexer": "ipython3",
   "version": "3.6.5"
  }
 },
 "nbformat": 4,
 "nbformat_minor": 2
}
