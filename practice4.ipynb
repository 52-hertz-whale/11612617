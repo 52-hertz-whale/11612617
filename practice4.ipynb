{
 "cells": [
  {
   "cell_type": "markdown",
   "metadata": {},
   "source": [
    "### Theory Questions"
   ]
  },
  {
   "cell_type": "markdown",
   "metadata": {},
   "source": [
    "1.Symbolize the following proposition and discuss the truth.\n",
    "1.  M(x) : x is a people.\n",
    "   F(x) : x with black hair. \n",
    "   Propositional symbolization as  x(M(x)⇒F(x)) .\n",
    "   assume a is a girl with blonde hair, then M(a) is true,F(a) is false.\n",
    "   so M(a)⇒F(a) is false,\n",
    "   Propositional is false.\n",
    "2.  G(x) : x boarded the moon.\n",
    "   Propositional symbolization as x(M(x)∧G(x)).\n",
    "   assume a is an American who completed the Apollo program on the moon in 1969.\n",
    "   so M(a)∧G(a) is true.\n",
    "   Propositional is true.\n",
    "3.  H(x) : x boarded the Jupiter.\n",
    "   Propositional symbolization as ￢x(M(x)∧H(x)).\n",
    "   No one has boarded Jupiter so far.\n",
    "   assume anyone is a,then M(a) ∧H(a) of all is false.\n",
    "   Therefore x(M(x)∧H(x)) is false.\n",
    "   Propositional is true.\n",
    "4.  F(x) : x is a student studying in the US. \n",
    "   G(x) : x is Asian.\n",
    "   Propositional symbolization as ￢x(F(x)⇒G(x)).\n",
    "   Thus, propositional is true."
   ]
  },
  {
   "cell_type": "markdown",
   "metadata": {},
   "source": [
    "2\\.Judge the following formula, which is tautology? What is the contradiction?  \n",
    "1. tautology : just Replacement instance p⇒(q⇒p)\n",
    "2. contradiction: just Replacement instance   ￢p⇒(q⇒p)\n",
    "3. No conclusion, in some case tautology and some case contradiction"
   ]
  },
  {
   "cell_type": "markdown",
   "metadata": {},
   "source": [
    "3\\.Which of the following are correct?  \n",
    "1.False  \n",
    "2.True  \n",
    "3.True  \n",
    "4.True  \n",
    "5.False  "
   ]
  },
  {
   "cell_type": "markdown",
   "metadata": {},
   "source": [
    "4\\.Conjunctive normal form\n",
    "P∧(Q⇒R)⇒S  \n",
    " =(￢P∨S∨Q)∧(￢P∨S∨￢R)"
   ]
  },
  {
   "cell_type": "markdown",
   "metadata": {},
   "source": [
    "5\\.first-order logic\n",
    "1. ∀ x Even(x) ⇔ ∃ y x=y + y.\n",
    "2. ∀ x Prime(x) ⇔ ∀ y, z x=y ×z ⇒ y =1 ∨ z =1.\n",
    "3. ∀ x Even(x) ⇒ ∃ y, z Prime(y) ∧ Prime(z) ∧ x=y + z."
   ]
  },
  {
   "cell_type": "markdown",
   "metadata": {},
   "source": [
    "### Programming Excercises"
   ]
  },
  {
   "cell_type": "markdown",
   "metadata": {},
   "source": [
    "#### Minmax for Ghost Agents"
   ]
  },
  {
   "cell_type": "code",
   "execution_count": 1,
   "metadata": {},
   "outputs": [
    {
     "ename": "NameError",
     "evalue": "name 'GhostAgent' is not defined",
     "output_type": "error",
     "traceback": [
      "\u001b[1;31m---------------------------------------------------------------------------\u001b[0m",
      "\u001b[1;31mNameError\u001b[0m                                 Traceback (most recent call last)",
      "\u001b[1;32m<ipython-input-1-32b095963717>\u001b[0m in \u001b[0;36m<module>\u001b[1;34m()\u001b[0m\n\u001b[1;32m----> 1\u001b[1;33m \u001b[1;32mclass\u001b[0m \u001b[0mMinimaxGhost\u001b[0m\u001b[1;33m(\u001b[0m\u001b[0mGhostAgent\u001b[0m\u001b[1;33m)\u001b[0m\u001b[1;33m:\u001b[0m\u001b[1;33m\u001b[0m\u001b[0m\n\u001b[0m\u001b[0;32m      2\u001b[0m \u001b[1;33m\u001b[0m\u001b[0m\n\u001b[0;32m      3\u001b[0m     \"\"\"\n\u001b[0;32m      4\u001b[0m       \u001b[0mYour\u001b[0m \u001b[0mminimax\u001b[0m \u001b[0magent\u001b[0m \u001b[1;33m(\u001b[0m\u001b[0mquestion\u001b[0m \u001b[1;36m1\u001b[0m\u001b[1;33m)\u001b[0m\u001b[1;33m\u001b[0m\u001b[0m\n\u001b[0;32m      5\u001b[0m \u001b[1;33m\u001b[0m\u001b[0m\n",
      "\u001b[1;31mNameError\u001b[0m: name 'GhostAgent' is not defined"
     ]
    }
   ],
   "source": [
    "class MinimaxGhost(GhostAgent):\n",
    "\n",
    "    \"\"\"\n",
    "      Your minimax agent (question 1)\n",
    "\n",
    "      useage: python2 pacman.py -p ExpectimaxAgent -l specialNew -g MinimaxGhost -a depth=4\n",
    "              python2 pacman.py -l specialNew -g MinimaxGhost\n",
    "\n",
    "    \"\"\"\n",
    "    \"*** YOUR CODE HERE ***\"\n",
    "\n",
    "    def __init__(self, index, Fn = 'betterEvaluationFunctionGhost', depth = '2'):\n",
    "        self.index = index\n",
    "        self.evaluationFunction = util.lookup(Fn, globals())\n",
    "        self.depth = int(depth)\n",
    "\n",
    "    def getAction(self, state):\n",
    "        root_value = self.value(state,0,self.index)\n",
    "        action = root_value[1]\n",
    "        return action\n",
    "\n",
    "    def value(self,state,CurrentDepth,index):\n",
    "        if index == state.getNumAgents():\n",
    "            CurrentDepth = CurrentDepth + 1\n",
    "            index = 0\n",
    "        actions = state.getLegalActions(index)\n",
    "        if len(actions) == 0 or CurrentDepth == self.depth:\n",
    "            newvalue = self.evaluationFunction(state)\n",
    "            return [newvalue]\n",
    "        if index == 0:\n",
    "            return self.max(state,CurrentDepth,index)\n",
    "        else:\n",
    "            return self.min(state,CurrentDepth,index)\n",
    "\n",
    "    def max(self,gameState,depth,index):\n",
    "        node_value = [-float(\"inf\")]\n",
    "        actions = gameState.getLegalActions(index)\n",
    "        for action in actions:\n",
    "            successor = gameState.generateSuccessor(index, action)\n",
    "            s_value = self.value(successor, depth, index + 1)[0]\n",
    "            if (s_value >= node_value[0]):\n",
    "                node_value = [s_value,action]\n",
    "        return node_value\n",
    "\n",
    "    def min(self,gameState,CurrentDepth,index):\n",
    "        node_value = [float(\"inf\")]\n",
    "        actions = gameState.getLegalActions(index)\n",
    "        for action in actions:\n",
    "            successor = gameState.generateSuccessor(index, action)\n",
    "            s_value = self.value(successor, CurrentDepth, index + 1)[0]\n",
    "            if (s_value <= node_value[0]):\n",
    "                node_value = [s_value,action]\n",
    "        return node_value"
   ]
  },
  {
   "cell_type": "markdown",
   "metadata": {},
   "source": [
    "New Layout  \n",
    "%%%%%%%%%%%%%%%%%%%%%%%%  \n",
    "%......%G  G%......   %  \n",
    "%. %%..%%  %%..   %%. %  \n",
    "%. %. .. ...  ..   %  %  \n",
    "%.    ........     .%  \n",
    "%........P........   .%  \n",
    "%%%%%%%%%%%%%%%%%%%%%%%%  "
   ]
  },
  {
   "cell_type": "markdown",
   "metadata": {},
   "source": [
    "MiniMax pacman vs. Adversarial ghost    \n",
    "The later one's decision depends on the former one. They can cooperate with each other.  "
   ]
  }
 ],
 "metadata": {
  "kernelspec": {
   "display_name": "Python 3",
   "language": "python",
   "name": "python3"
  },
  "language_info": {
   "codemirror_mode": {
    "name": "ipython",
    "version": 3
   },
   "file_extension": ".py",
   "mimetype": "text/x-python",
   "name": "python",
   "nbconvert_exporter": "python",
   "pygments_lexer": "ipython3",
   "version": "3.6.5"
  }
 },
 "nbformat": 4,
 "nbformat_minor": 2
}
