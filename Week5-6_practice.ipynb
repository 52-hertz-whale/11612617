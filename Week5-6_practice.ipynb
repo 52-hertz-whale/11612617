{
 "cells": [
  {
   "cell_type": "markdown",
   "metadata": {},
   "source": [
    "#### Theory Questions"
   ]
  },
  {
   "cell_type": "markdown",
   "metadata": {},
   "source": [
    "1.  \n",
    "a.True The second player will play using its own strategy. The action of the second player is up to the action of the first player but not its strategy.  \n",
    "b.False The action of the first player is based on the action of the second player.  \n",
    "c.False It is a game of chance. Sometimes it may also lose."
   ]
  },
  {
   "cell_type": "markdown",
   "metadata": {},
   "source": [
    "2.  \n",
    "constraint: some restriction on the possible values or actions.     \n",
    "backtracking search: when it get stucked in someplace, go back until it can choose another route available  \n",
    "arc consistency: A variable of a constraint satisfaction problem is arc-consistent with another one if each of its admissible values are consistent with some admissible value of the second variable.  \n",
    "backjumping: jump back for more than one step compared with the backtracing algorithm.  \n",
    "min-conflicts:assigns the value that minimizes the number of conflicts  \n",
    "cycle cutset:The variables which when removed from the constraint graph make it acyclic."
   ]
  },
  {
   "cell_type": "markdown",
   "metadata": {},
   "source": [
    "3.   \n",
    "The most constrained varible is more likely to make an error in the future. We should avoid it as early as possible. The least constraining value allows us to best avoid conflict in the future."
   ]
  },
  {
   "cell_type": "markdown",
   "metadata": {},
   "source": [
    "4.  \n",
    "This procedure will give incorrect results. It is incorrect to that averaging commutes with min and max.Also, the choice is based on full knowledge of future dice rolls."
   ]
  },
  {
   "cell_type": "markdown",
   "metadata": {},
   "source": [
    "5.  \n",
    "A will always choose the max banknotes and B will always choose the min banknotes."
   ]
  },
  {
   "cell_type": "markdown",
   "metadata": {},
   "source": [
    "#### Programming Questions"
   ]
  },
  {
   "cell_type": "markdown",
   "metadata": {},
   "source": [
    "1. guess number"
   ]
  },
  {
   "cell_type": "code",
   "execution_count": 2,
   "metadata": {},
   "outputs": [
    {
     "name": "stdout",
     "output_type": "stream",
     "text": [
      "guess a single number:5\n",
      "Your guess is too large.\n",
      "Try again:3\n",
      "Your guess is too large.\n",
      "Try again:2\n",
      "Win\n"
     ]
    }
   ],
   "source": [
    "import random\n",
    "num = random.randint(0,9)\n",
    "guess = int(input(\"guess a single number:\"))\n",
    "while guess != num :\n",
    "    if guess > num :\n",
    "        print(\"Your guess is too large.\")\n",
    "        guess = int(input(\"Try again:\"))\n",
    "    elif guess < num :\n",
    "        print(\"Your guess is too small.\")\n",
    "        guess = int(input(\"Try again:\"))\n",
    "print(\"Win\")"
   ]
  },
  {
   "cell_type": "markdown",
   "metadata": {},
   "source": [
    "2. guess 3 numbers"
   ]
  },
  {
   "cell_type": "code",
   "execution_count": 4,
   "metadata": {},
   "outputs": [
    {
     "name": "stdout",
     "output_type": "stream",
     "text": [
      "there are 3 numbers, please guess what it is.\n",
      "The clue I give is:\n",
      "When I say:                    It means:\n",
      "error                          The number are not in the mystical numbers\n",
      "Only the number is correct     The number is right but the position is not right\n",
      "absolutely right               Numbers are right and the position is also right\n",
      "There are 3 numbers, you have 10 chance to guess it\n",
      "This is the 1 time: 123\n",
      "['error', 'Only the number is correct', 'error']\n",
      "This is the 2 time: 245\n",
      "['Absolutely right', 'error', 'error']\n",
      "This is the 3 time: 267\n",
      "['Absolutely right', 'Only the number is correct', 'error']\n",
      "This is the 4 time: 286\n",
      "['Absolutely right', 'error', 'Absolutely right']\n",
      "This is the 5 time: 296\n",
      "Congratuation!\n",
      "Do you want to play again? (yes or no)no\n",
      "Thank you\n"
     ]
    }
   ],
   "source": [
    "import  random\n",
    "print(\"there are 3 numbers, please guess what it is.\\nThe clue I give is:\")\n",
    "print(\"When I say:\".ljust(30),\"It means:\")\n",
    "print(\"error\".ljust(30),\"The number are not in the mystical numbers\")\n",
    "print(\"Only the number is correct\".ljust(30),\"The number is right but the position is not right\")\n",
    "print(\"absolutely right\".ljust(30),\"Numbers are right and the position is also right\")\n",
    "\n",
    "def guessnumber():\n",
    "    print(\"There are 3 numbers, you have 10 chance to guess it\")\n",
    "    num = str(random.randint(100,999))\n",
    "    for n in range(10):\n",
    "        guess = (input(\"This is the {} time: \".format(n+1)))\n",
    "        output = []\n",
    "        if guess == num:\n",
    "            print (\"Congratuation!\")\n",
    "            break\n",
    "        for i in range(3):\n",
    "            if num[i] == guess[i]:\n",
    "                output.append(\"Absolutely right\")\n",
    "            else:\n",
    "                if guess[i] in (num[0],num[1],num[2]):\n",
    "                    output.append(\"Only the number is correct\")\n",
    "                else:\n",
    "                    output.append(\"error\")\n",
    "        print(output)\n",
    "    again = input(\"Do you want to play again? (yes or no)\")\n",
    "    if again == \"yes\":\n",
    "        guessnumber()\n",
    "    else:\n",
    "        print(\"Thank you\")\n",
    "\n",
    "\n",
    "guessnumber()"
   ]
  },
  {
   "cell_type": "markdown",
   "metadata": {},
   "source": [
    "3. Tkinter"
   ]
  },
  {
   "cell_type": "code",
   "execution_count": 5,
   "metadata": {},
   "outputs": [],
   "source": [
    "import tkinter\n",
    "\n",
    "root = tkinter.Tk()\n",
    "root.title(\"Dodo\")\n",
    "root.geometry(\"300x360\")\n",
    "list1 = ['C','python','php','html','SQL','java']\n",
    "list2 = ['CSS','jQuery','Bootstrap']\n",
    "box1 = tkinter.Listbox(root)\n",
    "box2 = tkinter.Listbox(root)\n",
    "for i in list1:\n",
    "    box1.insert(0,i)\n",
    "for i in list2:\n",
    "    box2.insert(0,i)\n",
    "box1.pack()\n",
    "box2.pack()\n",
    "root.mainloop()"
   ]
  },
  {
   "cell_type": "markdown",
   "metadata": {},
   "source": [
    "4. calculator"
   ]
  },
  {
   "cell_type": "code",
   "execution_count": 6,
   "metadata": {},
   "outputs": [],
   "source": [
    "import tkinter\n",
    "\n",
    "class Calculator:\n",
    "\n",
    "    def __init__(self):\n",
    "        self.root = tkinter.Tk()\n",
    "        self.root.title(\"My_Calculator\")\n",
    "        self.result = tkinter.StringVar()\n",
    "        self.root.geometry(\"590x700\")\n",
    "        self.result.set(\"\")\n",
    "        self.equation = \"\"\n",
    "        self.layout()\n",
    "        self.pressed = False\n",
    "        self.root.mainloop()\n",
    "\n",
    "\n",
    "    def layout(self):\n",
    "        self.result.set(\"\")\n",
    "        display = tkinter.Label(self.root, bd=3, bg=\"white\",font = 40, anchor=\"e\", textvariable=self.result )\n",
    "        display.place(x=5,y=20,width=580,height=70)\n",
    "        button_c = tkinter.Button(self.root, text = \"C\", command = lambda: self.result.set(\"\"))\n",
    "        button_c.place(x=5,y=95,width=140,height=100)\n",
    "        button_zf = tkinter.Button(self.root, text =\"±\", command = lambda: self.presszf())\n",
    "        button_zf.place(x=150,y=95, width=140, height=100)\n",
    "        button_del = tkinter.Button(self.root, text='←', command=lambda: self.pressdel())\n",
    "        button_del.place(x=295, y=95, width=140, height=100)\n",
    "        button_ce = tkinter.Button(self.root, text='CE', command=lambda: self.result.set(\"\"))\n",
    "        button_ce.place(x=440, y=95, width=140, height=100)\n",
    "        button_1 = tkinter.Button(self.root, text='1', command=lambda: self.pressnum('1'))\n",
    "        button_1.place(x=5, y=200, width=140, height=100)\n",
    "        button_2 = tkinter.Button(self.root, text='2', command=lambda: self.pressnum('2'))\n",
    "        button_2.place(x=150, y=200, width=140, height=100)\n",
    "        button_3 = tkinter.Button(self.root, text='3', command=lambda: self.pressnum('3'))\n",
    "        button_3.place(x=295, y=200, width=140, height=100)\n",
    "        button_4 = tkinter.Button(self.root, text='4', command=lambda: self.pressnum('4'))\n",
    "        button_4.place(x=440, y=200, width=140, height=100)\n",
    "        button_5 = tkinter.Button(self.root, text='5', command=lambda: self.pressnum('5'))\n",
    "        button_5.place(x=5, y=305, width=140, height=100)\n",
    "        button_6 = tkinter.Button(self.root, text='6', command=lambda: self.pressnum('6'))\n",
    "        button_6.place(x=150, y=305, width=140, height=100)\n",
    "        button_7 = tkinter.Button(self.root, text='7', command=lambda: self.pressnum('7'))\n",
    "        button_7.place(x=295, y=305, width=140, height=100)\n",
    "        button_8 = tkinter.Button(self.root, text='8', command=lambda: self.pressnum('8'))\n",
    "        button_8.place(x=440, y=305, width=140, height=100)\n",
    "        button_dot = tkinter.Button(self.root, text='.', command=lambda: self.pressnum('.'))\n",
    "        button_dot.place(x=5, y=410, width=140, height=100)\n",
    "        button_9 = tkinter.Button(self.root, text='9', command=lambda: self.pressnum('9'))\n",
    "        button_9.place(x=150, y=410, width=140, height=100)\n",
    "        button_0 = tkinter.Button(self.root, text='0', command=lambda: self.pressnum('0'))\n",
    "        button_0.place(x=295, y=410, width=140, height=100)\n",
    "        button_e = tkinter.Button(self.root, text='=', command=lambda: self.pressequal())\n",
    "        button_e.place(x=440, y=410, width=140, height=100)\n",
    "        button_plus = tkinter.Button(self.root, text='+', command=lambda: self.pressnum('+'))\n",
    "        button_plus.place(x=5, y=515, width=140, height=100)\n",
    "        button_minus = tkinter.Button(self.root, text='-', command=lambda: self.pressnum('-'))\n",
    "        button_minus.place(x=150, y=515, width=140, height=100)\n",
    "        button_multiply = tkinter.Button(self.root, text='*', command=lambda: self.pressnum('*'))\n",
    "        button_multiply.place(x=295, y=515, width=140, height=100)\n",
    "        button_divide = tkinter.Button(self.root, text='/', command=lambda: self.pressnum('/'))\n",
    "        button_divide.place(x=440, y=515, width=140, height=100)\n",
    "\n",
    "\n",
    "\n",
    "    def pressnum(self,num):\n",
    "        if self.pressed == True:\n",
    "            self.result.set(\"\")\n",
    "            self.pressed = False\n",
    "        oldnum = self.result.get()\n",
    "        newnum = oldnum + num\n",
    "        self.result.set(newnum)\n",
    "\n",
    "    def presssign(self,sign):\n",
    "        num = self.result.get()\n",
    "        self.result.set(num+sign)\n",
    "\n",
    "    def pressequal(self):\n",
    "        self.equation = self.result.get()\n",
    "        output = eval(self.equation)\n",
    "        self.result.set(output)\n",
    "        self.equation=\"\"\n",
    "        self.pressed = True\n",
    "\n",
    "\n",
    "\n",
    "    def pressdel(self):\n",
    "        if (self.result.get() == \"\"):\n",
    "            pass\n",
    "        else:\n",
    "            lens = len(self.result.get())\n",
    "            if lens == 1:\n",
    "                self.result.set(\"\")\n",
    "            elif lens > 1:\n",
    "                newnum = self.result.get()[0:lens - 1]\n",
    "                self.result.set(newnum)\n",
    "\n",
    "\n",
    "    def presszf(self):\n",
    "        num = self.result.get()\n",
    "        if num == \"\":\n",
    "            pass\n",
    "        else:\n",
    "            if num[0] != \"-\":\n",
    "                self.result.set('-' + num)\n",
    "            else:\n",
    "                self.result.set(num[1:])\n",
    "\n",
    "\n",
    "\n",
    "mycalculator = Calculator()"
   ]
  },
  {
   "cell_type": "markdown",
   "metadata": {},
   "source": [
    "5. pinball game"
   ]
  },
  {
   "cell_type": "code",
   "execution_count": 8,
   "metadata": {},
   "outputs": [
    {
     "ename": "TclError",
     "evalue": "can't invoke \"update\" command: application has been destroyed",
     "output_type": "error",
     "traceback": [
      "\u001b[1;31m---------------------------------------------------------------------------\u001b[0m",
      "\u001b[1;31mTclError\u001b[0m                                  Traceback (most recent call last)",
      "\u001b[1;32m<ipython-input-8-8a20db3b63e9>\u001b[0m in \u001b[0;36m<module>\u001b[1;34m()\u001b[0m\n\u001b[0;32m     87\u001b[0m     \u001b[1;32melse\u001b[0m\u001b[1;33m:\u001b[0m\u001b[1;33m\u001b[0m\u001b[0m\n\u001b[0;32m     88\u001b[0m         \u001b[0mtime\u001b[0m\u001b[1;33m.\u001b[0m\u001b[0msleep\u001b[0m\u001b[1;33m(\u001b[0m\u001b[1;36m0.1\u001b[0m\u001b[1;33m)\u001b[0m\u001b[1;33m\u001b[0m\u001b[0m\n\u001b[1;32m---> 89\u001b[1;33m     \u001b[0mroot\u001b[0m\u001b[1;33m.\u001b[0m\u001b[0mupdate_idletasks\u001b[0m\u001b[1;33m(\u001b[0m\u001b[1;33m)\u001b[0m\u001b[1;33m\u001b[0m\u001b[0m\n\u001b[0m\u001b[0;32m     90\u001b[0m     \u001b[0mroot\u001b[0m\u001b[1;33m.\u001b[0m\u001b[0mupdate\u001b[0m\u001b[1;33m(\u001b[0m\u001b[1;33m)\u001b[0m\u001b[1;33m\u001b[0m\u001b[0m\n\u001b[0;32m     91\u001b[0m     \u001b[0mtime\u001b[0m\u001b[1;33m.\u001b[0m\u001b[0msleep\u001b[0m\u001b[1;33m(\u001b[0m\u001b[1;36m0.01\u001b[0m\u001b[1;33m)\u001b[0m\u001b[1;33m\u001b[0m\u001b[0m\n",
      "\u001b[1;32m~\\Anaconda3\\lib\\tkinter\\__init__.py\u001b[0m in \u001b[0;36mupdate_idletasks\u001b[1;34m(self)\u001b[0m\n\u001b[0;32m   1177\u001b[0m         \u001b[0mwill\u001b[0m \u001b[0mupdate\u001b[0m \u001b[0mthe\u001b[0m \u001b[0mdisplay\u001b[0m \u001b[0mof\u001b[0m \u001b[0mwindows\u001b[0m \u001b[0mbut\u001b[0m \u001b[1;32mnot\u001b[0m \u001b[0mprocess\u001b[0m \u001b[0mevents\u001b[0m \u001b[0mcaused\u001b[0m \u001b[0mby\u001b[0m\u001b[1;33m\u001b[0m\u001b[0m\n\u001b[0;32m   1178\u001b[0m         the user.\"\"\"\n\u001b[1;32m-> 1179\u001b[1;33m         \u001b[0mself\u001b[0m\u001b[1;33m.\u001b[0m\u001b[0mtk\u001b[0m\u001b[1;33m.\u001b[0m\u001b[0mcall\u001b[0m\u001b[1;33m(\u001b[0m\u001b[1;34m'update'\u001b[0m\u001b[1;33m,\u001b[0m \u001b[1;34m'idletasks'\u001b[0m\u001b[1;33m)\u001b[0m\u001b[1;33m\u001b[0m\u001b[0m\n\u001b[0m\u001b[0;32m   1180\u001b[0m     \u001b[1;32mdef\u001b[0m \u001b[0mbindtags\u001b[0m\u001b[1;33m(\u001b[0m\u001b[0mself\u001b[0m\u001b[1;33m,\u001b[0m \u001b[0mtagList\u001b[0m\u001b[1;33m=\u001b[0m\u001b[1;32mNone\u001b[0m\u001b[1;33m)\u001b[0m\u001b[1;33m:\u001b[0m\u001b[1;33m\u001b[0m\u001b[0m\n\u001b[0;32m   1181\u001b[0m         \"\"\"Set or get the list of bindtags for this widget.\n",
      "\u001b[1;31mTclError\u001b[0m: can't invoke \"update\" command: application has been destroyed"
     ]
    }
   ],
   "source": [
    "import tkinter\n",
    "import random\n",
    "import time\n",
    "\n",
    "\n",
    "class Ball:\n",
    "    def __init__(self,canvas,paddle,color):\n",
    "        self.canvas = canvas\n",
    "        self.canvas_height=self.canvas.winfo_height()\n",
    "        self.canvas_width=self.canvas.winfo_width()\n",
    "        self.id = canvas.create_oval(10,10,25,25,fill=color)\n",
    "        self.canvas.move(self.id,100,100)\n",
    "        starts = [-3,-2,-1,1,2,3]\n",
    "        random.shuffle(starts)\n",
    "        self.paddle = paddle\n",
    "        self.x = starts[0]\n",
    "        self.y = -3\n",
    "        self.hit_bottom = False\n",
    "\n",
    "    def hit_paddle(self,pos):\n",
    "        paddle_pos = self.canvas.coords(self.paddle.id)\n",
    "        if pos[2] >= paddle_pos[0] and pos[0] <= paddle_pos[2]:\n",
    "            if pos[3]>=paddle_pos[1] and pos[3] <= paddle_pos[3]:\n",
    "                return True\n",
    "        return False\n",
    "\n",
    "    def draw(self):\n",
    "        self.canvas.move(self.id,self.x,self.y)\n",
    "        pos = self.canvas.coords(self.id)\n",
    "        if pos[1] <= 0:\n",
    "            self.y = 3\n",
    "        if pos[3] >= self.canvas_height:\n",
    "            self.hit_bottom = True\n",
    "        if self.hit_paddle(pos) == True:\n",
    "            self.y = -3\n",
    "        if pos[0] <= 0:\n",
    "            self.x = 3\n",
    "        if pos[2] >= self.canvas_width:\n",
    "            self.x = -3\n",
    "\n",
    "class Paddle:\n",
    "    def __init__(self,canvas,color):\n",
    "        self.canvas = canvas\n",
    "        self.id = canvas.create_rectangle(0,0,150,10,fill=color)\n",
    "        self.canvas.move(self.id,200,350)\n",
    "        self.x = 0\n",
    "        self.canvas_width = self.canvas.winfo_width()\n",
    "        self.canvas_height = self.canvas.winfo_height()\n",
    "        self.canvas.bind_all('<KeyPress-Left>',self.turn_left)\n",
    "        self.canvas.bind_all('<KeyPress-Right>',self.turn_right)\n",
    "\n",
    "    def turn_left(self,event):\n",
    "        position = self.canvas.coords(self.id)\n",
    "        if position[0] <= 0:\n",
    "            self.x = 0\n",
    "        else:\n",
    "            self.x = -3\n",
    "\n",
    "    def turn_right(self,event):\n",
    "        position = self.canvas.coords(self.id)\n",
    "        if position[2] >= self.canvas_width:\n",
    "            self.x = 0\n",
    "        else:\n",
    "            self.x = 3\n",
    "\n",
    "    def draw(self):\n",
    "        self.canvas.move(self.id,self.x,0)\n",
    "        position = self.canvas.coords(self.id)\n",
    "        if position[0] <= 0:\n",
    "            self.x = 0\n",
    "        elif position[2] >= self.canvas_width:\n",
    "            self.x = 0\n",
    "\n",
    "\n",
    "root = tkinter.Tk()\n",
    "root.title(\"Pinball Game\")\n",
    "root.geometry(\"600x600\")\n",
    "canvas = tkinter.Canvas(root,width=600,height=600,bd=0,highlightthickness=0,bg='white')\n",
    "canvas.pack()\n",
    "root.update()\n",
    "paddle = Paddle(canvas,\"grey\")\n",
    "ball = Ball(canvas,paddle,\"blue\")\n",
    "while True:\n",
    "    if ball.hit_bottom == False:\n",
    "        ball.draw()\n",
    "        paddle.draw()\n",
    "    else:\n",
    "        time.sleep(0.1)\n",
    "    root.update_idletasks()\n",
    "    root.update()\n",
    "    time.sleep(0.01)"
   ]
  }
 ],
 "metadata": {
  "kernelspec": {
   "display_name": "Python 3",
   "language": "python",
   "name": "python3"
  },
  "language_info": {
   "codemirror_mode": {
    "name": "ipython",
    "version": 3
   },
   "file_extension": ".py",
   "mimetype": "text/x-python",
   "name": "python",
   "nbconvert_exporter": "python",
   "pygments_lexer": "ipython3",
   "version": "3.6.5"
  }
 },
 "nbformat": 4,
 "nbformat_minor": 2
}
